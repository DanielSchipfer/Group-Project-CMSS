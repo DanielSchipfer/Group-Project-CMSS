{
 "cells": [
  {
   "cell_type": "code",
   "execution_count": 3,
   "id": "bc5a4b48",
   "metadata": {},
   "outputs": [],
   "source": [
    "from model import CulturalDiffusionModel"
   ]
  },
  {
   "cell_type": "code",
   "execution_count": 1,
   "id": "46607f69",
   "metadata": {},
   "outputs": [
    {
     "ename": "KeyError",
     "evalue": "'agent'",
     "output_type": "error",
     "traceback": [
      "\u001b[1;31m---------------------------------------------------------------------------\u001b[0m",
      "\u001b[1;31mKeyError\u001b[0m                                  Traceback (most recent call last)",
      "Cell \u001b[1;32mIn[1], line 12\u001b[0m\n\u001b[0;32m      4\u001b[0m \u001b[38;5;28;01mdef\u001b[39;00m \u001b[38;5;21magent_portrayal\u001b[39m(agent):\n\u001b[0;32m      5\u001b[0m     \u001b[38;5;28;01mreturn\u001b[39;00m {\n\u001b[0;32m      6\u001b[0m         \u001b[38;5;124m\"\u001b[39m\u001b[38;5;124mshape\u001b[39m\u001b[38;5;124m\"\u001b[39m: \u001b[38;5;124m\"\u001b[39m\u001b[38;5;124mcircle\u001b[39m\u001b[38;5;124m\"\u001b[39m,\n\u001b[0;32m      7\u001b[0m         \u001b[38;5;124m\"\u001b[39m\u001b[38;5;124mcolor\u001b[39m\u001b[38;5;124m\"\u001b[39m: \u001b[38;5;124m\"\u001b[39m\u001b[38;5;124m#1f77b4\u001b[39m\u001b[38;5;124m\"\u001b[39m,\n\u001b[0;32m      8\u001b[0m         \u001b[38;5;124m\"\u001b[39m\u001b[38;5;124mr\u001b[39m\u001b[38;5;124m\"\u001b[39m: \u001b[38;5;241m5\u001b[39m,\n\u001b[0;32m      9\u001b[0m         \u001b[38;5;124m\"\u001b[39m\u001b[38;5;124mtooltip\u001b[39m\u001b[38;5;124m\"\u001b[39m: \u001b[38;5;28mstr\u001b[39m(agent\u001b[38;5;241m.\u001b[39mculture_vector)\n\u001b[0;32m     10\u001b[0m     }\n\u001b[1;32m---> 12\u001b[0m model \u001b[38;5;241m=\u001b[39m CulturalDiffusionModel(n_agents\u001b[38;5;241m=\u001b[39m\u001b[38;5;241m20\u001b[39m)\n\u001b[0;32m     13\u001b[0m viz \u001b[38;5;241m=\u001b[39m SolaraViz(model, components\u001b[38;5;241m=\u001b[39m[make_space_component(agent_portrayal)])\n\u001b[0;32m     14\u001b[0m viz\n",
      "File \u001b[1;32mc:\\Users\\danie\\Desktop\\CSS\\Semester 2\\CMSS\\Group_Project\\model.py:68\u001b[0m, in \u001b[0;36mCulturalDiffusionModel.__init__\u001b[1;34m(self, n_agents, seed, distance_decay)\u001b[0m\n\u001b[0;32m     66\u001b[0m     agent \u001b[38;5;241m=\u001b[39m CountryAgent(\u001b[38;5;28mself\u001b[39m, culture_vector, position)\n\u001b[0;32m     67\u001b[0m     \u001b[38;5;28mself\u001b[39m\u001b[38;5;241m.\u001b[39mG\u001b[38;5;241m.\u001b[39madd_node(i)  \u001b[38;5;66;03m# use index as node ID\u001b[39;00m\n\u001b[1;32m---> 68\u001b[0m     \u001b[38;5;28mself\u001b[39m\u001b[38;5;241m.\u001b[39mgrid\u001b[38;5;241m.\u001b[39mplace_agent(agent, i)  \u001b[38;5;66;03m# place agent at node i\u001b[39;00m\n\u001b[0;32m     69\u001b[0m     \u001b[38;5;28mself\u001b[39m\u001b[38;5;241m.\u001b[39magent_list\u001b[38;5;241m.\u001b[39mappend(agent)\n\u001b[0;32m     71\u001b[0m \u001b[38;5;66;03m# Connect all nodes to all others (fully connected)\u001b[39;00m\n",
      "File \u001b[1;32mc:\\Users\\danie\\anaconda3\\Lib\\site-packages\\mesa\\space.py:95\u001b[0m, in \u001b[0;36mwarn_if_agent_has_position_already.<locals>.wrapper\u001b[1;34m(self, agent, *args, **kwargs)\u001b[0m\n\u001b[0;32m     87\u001b[0m         \u001b[38;5;28;01mif\u001b[39;00m agent\u001b[38;5;241m.\u001b[39mpos \u001b[38;5;129;01mis\u001b[39;00m \u001b[38;5;129;01mnot\u001b[39;00m \u001b[38;5;28;01mNone\u001b[39;00m:\n\u001b[0;32m     88\u001b[0m             warnings\u001b[38;5;241m.\u001b[39mwarn(\n\u001b[0;32m     89\u001b[0m                 \u001b[38;5;124mf\u001b[39m\u001b[38;5;124m\"\"\"\u001b[39m\u001b[38;5;124mAgent \u001b[39m\u001b[38;5;132;01m{\u001b[39;00magent\u001b[38;5;241m.\u001b[39munique_id\u001b[38;5;132;01m}\u001b[39;00m\u001b[38;5;124m is being placed with\u001b[39m\n\u001b[0;32m     90\u001b[0m \u001b[38;5;124mplace_agent() despite already having the position \u001b[39m\u001b[38;5;132;01m{\u001b[39;00magent\u001b[38;5;241m.\u001b[39mpos\u001b[38;5;132;01m}\u001b[39;00m\u001b[38;5;124m. In most\u001b[39m\n\u001b[1;32m   (...)\u001b[0m\n\u001b[0;32m     93\u001b[0m                 stacklevel\u001b[38;5;241m=\u001b[39m\u001b[38;5;241m2\u001b[39m,\n\u001b[0;32m     94\u001b[0m             )\n\u001b[1;32m---> 95\u001b[0m         placement_func(\u001b[38;5;28mself\u001b[39m, agent, \u001b[38;5;241m*\u001b[39margs, \u001b[38;5;241m*\u001b[39m\u001b[38;5;241m*\u001b[39mkwargs)\n",
      "File \u001b[1;32mc:\\Users\\danie\\anaconda3\\Lib\\site-packages\\mesa\\space.py:1559\u001b[0m, in \u001b[0;36mNetworkGrid.place_agent\u001b[1;34m(self, agent, node_id)\u001b[0m\n\u001b[0;32m   1556\u001b[0m \u001b[38;5;129m@warn_if_agent_has_position_already\u001b[39m\n\u001b[0;32m   1557\u001b[0m \u001b[38;5;28;01mdef\u001b[39;00m \u001b[38;5;21mplace_agent\u001b[39m(\u001b[38;5;28mself\u001b[39m, agent: Agent, node_id: \u001b[38;5;28mint\u001b[39m) \u001b[38;5;241m-\u001b[39m\u001b[38;5;241m>\u001b[39m \u001b[38;5;28;01mNone\u001b[39;00m:\n\u001b[0;32m   1558\u001b[0m \u001b[38;5;250m    \u001b[39m\u001b[38;5;124;03m\"\"\"Place an agent in a node.\"\"\"\u001b[39;00m\n\u001b[1;32m-> 1559\u001b[0m     \u001b[38;5;28mself\u001b[39m\u001b[38;5;241m.\u001b[39mG\u001b[38;5;241m.\u001b[39mnodes[node_id][\u001b[38;5;124m\"\u001b[39m\u001b[38;5;124magent\u001b[39m\u001b[38;5;124m\"\u001b[39m]\u001b[38;5;241m.\u001b[39mappend(agent)\n\u001b[0;32m   1560\u001b[0m     agent\u001b[38;5;241m.\u001b[39mpos \u001b[38;5;241m=\u001b[39m node_id\n",
      "\u001b[1;31mKeyError\u001b[0m: 'agent'"
     ]
    }
   ],
   "source": [
    "from model import CulturalDiffusionModel\n",
    "from mesa.visualization import SolaraViz, make_space_component\n",
    "\n",
    "def agent_portrayal(agent):\n",
    "    return {\n",
    "        \"shape\": \"circle\",\n",
    "        \"color\": \"#1f77b4\",\n",
    "        \"r\": 5,\n",
    "        \"tooltip\": str(agent.culture_vector)\n",
    "    }\n",
    "\n",
    "model = CulturalDiffusionModel(n_agents=20)\n",
    "viz = SolaraViz(model, components=[make_space_component(agent_portrayal)])\n",
    "viz\n"
   ]
  }
 ],
 "metadata": {
  "kernelspec": {
   "display_name": "base",
   "language": "python",
   "name": "python3"
  },
  "language_info": {
   "codemirror_mode": {
    "name": "ipython",
    "version": 3
   },
   "file_extension": ".py",
   "mimetype": "text/x-python",
   "name": "python",
   "nbconvert_exporter": "python",
   "pygments_lexer": "ipython3",
   "version": "3.12.4"
  }
 },
 "nbformat": 4,
 "nbformat_minor": 5
}
