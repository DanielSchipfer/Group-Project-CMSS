{
 "cells": [
  {
   "cell_type": "code",
   "execution_count": 1,
   "id": "46607f69",
   "metadata": {},
   "outputs": [
    {
     "ename": "AttributeError",
     "evalue": "module 'mesa' has no attribute 'time'",
     "output_type": "error",
     "traceback": [
      "\u001b[1;31m---------------------------------------------------------------------------\u001b[0m",
      "\u001b[1;31mAttributeError\u001b[0m                            Traceback (most recent call last)",
      "Cell \u001b[1;32mIn[1], line 22\u001b[0m\n\u001b[0;32m     19\u001b[0m results \u001b[38;5;241m=\u001b[39m []\n\u001b[0;32m     21\u001b[0m \u001b[38;5;28;01mfor\u001b[39;00m t \u001b[38;5;129;01min\u001b[39;00m thresholds:\n\u001b[1;32m---> 22\u001b[0m     steps, avg_sim \u001b[38;5;241m=\u001b[39m run_experiment(t)\n\u001b[0;32m     23\u001b[0m     results\u001b[38;5;241m.\u001b[39mappend((t, steps, avg_sim))\n\u001b[0;32m     24\u001b[0m     \u001b[38;5;28mprint\u001b[39m(\u001b[38;5;124mf\u001b[39m\u001b[38;5;124m\"\u001b[39m\u001b[38;5;124mThreshold=\u001b[39m\u001b[38;5;132;01m{\u001b[39;00mt\u001b[38;5;132;01m:\u001b[39;00m\u001b[38;5;124m.2f\u001b[39m\u001b[38;5;132;01m}\u001b[39;00m\u001b[38;5;124m | Steps to stability=\u001b[39m\u001b[38;5;132;01m{\u001b[39;00msteps\u001b[38;5;132;01m}\u001b[39;00m\u001b[38;5;124m | Final avg similarity=\u001b[39m\u001b[38;5;132;01m{\u001b[39;00mavg_sim\u001b[38;5;132;01m:\u001b[39;00m\u001b[38;5;124m.3f\u001b[39m\u001b[38;5;132;01m}\u001b[39;00m\u001b[38;5;124m\"\u001b[39m)\n",
      "Cell \u001b[1;32mIn[1], line 6\u001b[0m, in \u001b[0;36mrun_experiment\u001b[1;34m(threshold, max_steps, width, height, seed)\u001b[0m\n\u001b[0;32m      5\u001b[0m \u001b[38;5;28;01mdef\u001b[39;00m \u001b[38;5;21mrun_experiment\u001b[39m(threshold, max_steps\u001b[38;5;241m=\u001b[39m\u001b[38;5;241m200\u001b[39m, width\u001b[38;5;241m=\u001b[39m\u001b[38;5;241m10\u001b[39m, height\u001b[38;5;241m=\u001b[39m\u001b[38;5;241m10\u001b[39m, seed\u001b[38;5;241m=\u001b[39m\u001b[38;5;241m2\u001b[39m):\n\u001b[1;32m----> 6\u001b[0m     model \u001b[38;5;241m=\u001b[39m CulturalDiffusionModel(width\u001b[38;5;241m=\u001b[39mwidth, height\u001b[38;5;241m=\u001b[39mheight, seed\u001b[38;5;241m=\u001b[39mseed,\n\u001b[0;32m      7\u001b[0m                                   min_distance_threshold\u001b[38;5;241m=\u001b[39mthreshold,\n\u001b[0;32m      8\u001b[0m                                   use_distance_in_similarity\u001b[38;5;241m=\u001b[39m\u001b[38;5;28;01mTrue\u001b[39;00m)\n\u001b[0;32m      9\u001b[0m     step \u001b[38;5;241m=\u001b[39m \u001b[38;5;241m0\u001b[39m\n\u001b[0;32m     10\u001b[0m     \u001b[38;5;28;01mwhile\u001b[39;00m step \u001b[38;5;241m<\u001b[39m max_steps \u001b[38;5;129;01mand\u001b[39;00m \u001b[38;5;129;01mnot\u001b[39;00m model\u001b[38;5;241m.\u001b[39mis_stable():\n",
      "File \u001b[1;32mc:\\Users\\danie\\Desktop\\CSS\\Semester 2\\CMSS\\Group_Project\\model.py:66\u001b[0m, in \u001b[0;36mCulturalDiffusionModel.__init__\u001b[1;34m(self, width, height, seed, min_distance_threshold, use_distance_in_similarity)\u001b[0m\n\u001b[0;32m     63\u001b[0m \u001b[38;5;28mself\u001b[39m\u001b[38;5;241m.\u001b[39muse_distance_in_similarity \u001b[38;5;241m=\u001b[39m use_distance_in_similarity\n\u001b[0;32m     65\u001b[0m \u001b[38;5;28mself\u001b[39m\u001b[38;5;241m.\u001b[39mgrid \u001b[38;5;241m=\u001b[39m mesa\u001b[38;5;241m.\u001b[39mspace\u001b[38;5;241m.\u001b[39mSingleGrid(width, height, torus\u001b[38;5;241m=\u001b[39m\u001b[38;5;28;01mFalse\u001b[39;00m)\n\u001b[1;32m---> 66\u001b[0m \u001b[38;5;28mself\u001b[39m\u001b[38;5;241m.\u001b[39mschedule \u001b[38;5;241m=\u001b[39m mesa\u001b[38;5;241m.\u001b[39mtime\u001b[38;5;241m.\u001b[39mRandomActivation(\u001b[38;5;28mself\u001b[39m)\n\u001b[0;32m     68\u001b[0m \u001b[38;5;66;03m# Create agents and place on grid\u001b[39;00m\n\u001b[0;32m     69\u001b[0m \u001b[38;5;28;01mfor\u001b[39;00m x \u001b[38;5;129;01min\u001b[39;00m \u001b[38;5;28mrange\u001b[39m(width):\n",
      "\u001b[1;31mAttributeError\u001b[0m: module 'mesa' has no attribute 'time'"
     ]
    }
   ],
   "source": [
    "import matplotlib.pyplot as plt\n",
    "import numpy as np\n",
    "from model import CulturalDiffusionModel\n",
    "\n",
    "def run_experiment(threshold, max_steps=200, width=10, height=10, seed=2):\n",
    "    model = CulturalDiffusionModel(width=width, height=height, seed=seed,\n",
    "                                  min_distance_threshold=threshold,\n",
    "                                  use_distance_in_similarity=True)\n",
    "    step = 0\n",
    "    while step < max_steps and not model.is_stable():\n",
    "        model.step()\n",
    "        step += 1\n",
    "    model.steps = step  # <- add this if you use model.steps later\n",
    "\n",
    "    avg_sim = model.get_average_cultural_similarity()\n",
    "    return step, avg_sim\n",
    "\n",
    "thresholds = np.linspace(0, 1, 6)  # e.g., 0, 0.2, 0.4, 0.6, 0.8, 1.0\n",
    "results = []\n",
    "\n",
    "for t in thresholds:\n",
    "    steps, avg_sim = run_experiment(t)\n",
    "    results.append((t, steps, avg_sim))\n",
    "    print(f\"Threshold={t:.2f} | Steps to stability={steps} | Final avg similarity={avg_sim:.3f}\")\n",
    "\n",
    "# Plotting results\n",
    "threshold_vals, steps_vals, similarity_vals = zip(*results)\n",
    "\n",
    "fig, ax1 = plt.subplots()\n",
    "\n",
    "color = 'tab:blue'\n",
    "ax1.set_xlabel('Min Distance Threshold')\n",
    "ax1.set_ylabel('Steps to Stability', color=color)\n",
    "ax1.plot(threshold_vals, steps_vals, 'o-', color=color)\n",
    "ax1.tick_params(axis='y', labelcolor=color)\n",
    "ax1.set_ylim(bottom=0)\n",
    "\n",
    "ax2 = ax1.twinx()\n",
    "color = 'tab:green'\n",
    "ax2.set_ylabel('Final Avg Similarity', color=color)\n",
    "ax2.plot(threshold_vals, similarity_vals, 's--', color=color)\n",
    "ax2.tick_params(axis='y', labelcolor=color)\n",
    "ax2.set_ylim(0, 1)\n",
    "\n",
    "plt.title('Effect of Geographic Distance Threshold on Cultural Convergence')\n",
    "plt.show()"
   ]
  },
  {
   "cell_type": "code",
   "execution_count": 4,
   "id": "1bdf4946",
   "metadata": {},
   "outputs": [
    {
     "ename": "ModuleNotFoundError",
     "evalue": "No module named 'mesa.visualization.modules'",
     "output_type": "error",
     "traceback": [
      "\u001b[1;31m---------------------------------------------------------------------------\u001b[0m",
      "\u001b[1;31mModuleNotFoundError\u001b[0m                       Traceback (most recent call last)",
      "Cell \u001b[1;32mIn[4], line 1\u001b[0m\n\u001b[1;32m----> 1\u001b[0m \u001b[38;5;28;01mfrom\u001b[39;00m \u001b[38;5;21;01mmesa\u001b[39;00m\u001b[38;5;21;01m.\u001b[39;00m\u001b[38;5;21;01mvisualization\u001b[39;00m\u001b[38;5;21;01m.\u001b[39;00m\u001b[38;5;21;01mmodules\u001b[39;00m \u001b[38;5;28;01mimport\u001b[39;00m CanvasGrid\n\u001b[0;32m      2\u001b[0m \u001b[38;5;28;01mfrom\u001b[39;00m \u001b[38;5;21;01mmesa\u001b[39;00m\u001b[38;5;21;01m.\u001b[39;00m\u001b[38;5;21;01mvisualization\u001b[39;00m\u001b[38;5;21;01m.\u001b[39;00m\u001b[38;5;21;01mModularVisualization\u001b[39;00m \u001b[38;5;28;01mimport\u001b[39;00m ModularServer\n\u001b[0;32m      3\u001b[0m \u001b[38;5;28;01mfrom\u001b[39;00m \u001b[38;5;21;01mmodel\u001b[39;00m \u001b[38;5;28;01mimport\u001b[39;00m CulturalDiffusionModel\n",
      "\u001b[1;31mModuleNotFoundError\u001b[0m: No module named 'mesa.visualization.modules'"
     ]
    }
   ],
   "source": [
    "from mesa.visualization.modules import CanvasGrid\n",
    "from mesa.visualization.ModularVisualization import ModularServer\n",
    "from model import CulturalDiffusionModel\n",
    "\n",
    "def agent_portrayal(agent):\n",
    "    culture_val = getattr(agent, 'culture_score', 0)\n",
    "    color_val = int(culture_val / 10 * 255)\n",
    "    color = f\"rgb({255 - color_val}, {color_val}, 128)\"\n",
    "    return {\n",
    "        \"Shape\": \"rect\",\n",
    "        \"w\": 1,\n",
    "        \"h\": 1,\n",
    "        \"Filled\": True,\n",
    "        \"Color\": color,\n",
    "        \"Layer\": 0,\n",
    "    }\n",
    "\n",
    "canvas_element = CanvasGrid(agent_portrayal, 10, 10, 500, 500)\n",
    "\n",
    "model_params = {\n",
    "    \"width\": 10,\n",
    "    \"height\": 10,\n",
    "    \"min_distance_threshold\": 0.4,\n",
    "    \"use_distance_in_similarity\": True,\n",
    "}\n",
    "\n",
    "server = ModularServer(\n",
    "    CulturalDiffusionModel,\n",
    "    [canvas_element],\n",
    "    \"Cultural Diffusion Model\",\n",
    "    model_params\n",
    ")\n",
    "\n",
    "server.port = 8521\n",
    "server.launch()\n"
   ]
  },
  {
   "cell_type": "code",
   "execution_count": null,
   "id": "613ba9f2",
   "metadata": {},
   "outputs": [],
   "source": [
    "import solara\n",
    "solara.display(viz)\n"
   ]
  },
  {
   "cell_type": "code",
   "execution_count": 5,
   "id": "400be66c",
   "metadata": {},
   "outputs": [
    {
     "name": "stdout",
     "output_type": "stream",
     "text": [
      "3.1.5\n"
     ]
    }
   ],
   "source": [
    "import mesa\n",
    "print(mesa.__version__)\n"
   ]
  }
 ],
 "metadata": {
  "kernelspec": {
   "display_name": "base",
   "language": "python",
   "name": "python3"
  },
  "language_info": {
   "codemirror_mode": {
    "name": "ipython",
    "version": 3
   },
   "file_extension": ".py",
   "mimetype": "text/x-python",
   "name": "python",
   "nbconvert_exporter": "python",
   "pygments_lexer": "ipython3",
   "version": "3.12.4"
  }
 },
 "nbformat": 4,
 "nbformat_minor": 5
}
